{
  "nbformat": 4,
  "nbformat_minor": 0,
  "metadata": {
    "colab": {
      "name": "SpriteAugmenter.ipynb",
      "provenance": [],
      "collapsed_sections": [],
      "mount_file_id": "1auwQV5BK5YvZv2eT8T3ZgPylyJP45NbM",
      "authorship_tag": "ABX9TyP8UH/ysKoqr9hygFmbYgdx",
      "include_colab_link": true
    },
    "kernelspec": {
      "name": "python3",
      "display_name": "Python 3"
    }
  },
  "cells": [
    {
      "cell_type": "markdown",
      "metadata": {
        "id": "view-in-github",
        "colab_type": "text"
      },
      "source": [
        "<a href=\"https://colab.research.google.com/github/Sposito/sprite_super_resolution/blob/master/SpriteAugmenter.ipynb\" target=\"_parent\"><img src=\"https://colab.research.google.com/assets/colab-badge.svg\" alt=\"Open In Colab\"/></a>"
      ]
    },
    {
      "cell_type": "code",
      "metadata": {
        "id": "WN8x_q9uMmUJ",
        "colab_type": "code",
        "colab": {}
      },
      "source": [
        "! mkdir sprites\n",
        "! cd sprites\n",
        "! mkdir sprites/downsampled\n",
        "! cp -r \"/content/drive/My Drive/sprites/atlases/\" /content/sprites"
      ],
      "execution_count": null,
      "outputs": []
    },
    {
      "cell_type": "code",
      "metadata": {
        "id": "Puwh7BoD4stT",
        "colab_type": "code",
        "colab": {}
      },
      "source": [
        "!ls /content/sprites/atlases"
      ],
      "execution_count": null,
      "outputs": []
    },
    {
      "cell_type": "code",
      "metadata": {
        "id": "cGrIX4OWY6tu",
        "colab_type": "code",
        "colab": {}
      },
      "source": [
        "from PIL import Image\n",
        "sprites_folder = '/content/drive/My Drive/sprites'\n",
        "with open(sprites_folder + '/file.txt', 'w' ) as file:\n",
        "  file.write('n')\n",
        "\n"
      ],
      "execution_count": null,
      "outputs": []
    },
    {
      "cell_type": "code",
      "metadata": {
        "id": "5dkPnwVmfTxp",
        "colab_type": "code",
        "colab": {}
      },
      "source": [
        "import os\n",
        "# from IPython.display import Image, display\n",
        "\n",
        "from PIL import Image\n",
        "sprites_folder = '/content/sprites/atlases'\n",
        "for filename in os.listdir(sprites_folder):\n",
        "  a = Image.open(sprites_folder + '/' + filename)\n",
        "  a = a.resize((1024, 1024), Image.NEAREST)\n",
        "  a.save(f'/content/sprites/downsampled/{filename}', 'PNG' )\n",
        "  "
      ],
      "execution_count": null,
      "outputs": []
    },
    {
      "cell_type": "code",
      "metadata": {
        "id": "lIXDtRvT-Azl",
        "colab_type": "code",
        "colab": {}
      },
      "source": [
        "import glob\n",
        "from PIL import Image\n",
        "#build dataset\n",
        "input_paths = sorted(glob.glob('/content/sprites/downsampled/*'))[:1]\n",
        "print(input_paths)\n",
        "\n",
        "for path in input_paths:\n",
        "  r = path.split('/')[-1].split('.')[0].split('_')[1:3]\n",
        "  r = list(map(lambda x:int(x,16), r))\n",
        "  a = r[0]\n",
        "  z = r[1]\n",
        "  \n",
        "  list([0,1])\n",
        "  for i in range(0,4096):\n",
        "    "
      ],
      "execution_count": null,
      "outputs": []
    },
    {
      "cell_type": "code",
      "metadata": {
        "id": "m0JmCdLv9FVY",
        "colab_type": "code",
        "colab": {}
      },
      "source": [
        "! rm -rf /content/sprites/downsampled/*"
      ],
      "execution_count": null,
      "outputs": []
    },
    {
      "cell_type": "code",
      "metadata": {
        "id": "QVsnNxXN-LlZ",
        "colab_type": "code",
        "colab": {
          "base_uri": "https://localhost:8080/",
          "height": 85
        },
        "outputId": "e77a7f9d-34b6-4059-d3a5-910c342b3886"
      },
      "source": [
        "from keras.preprocessing.image import load_img\n",
        "# load the image\n",
        "img = load_img('/content/sprites/downsampled/sheet_0x0_0xfff.png')\n",
        "# report details about the image\n",
        "print(type(img))\n",
        "print(img.format)\n",
        "print(img.mode)\n",
        "print(img.size)\n",
        "# show the image\n",
        "img.show()"
      ],
      "execution_count": null,
      "outputs": [
        {
          "output_type": "stream",
          "text": [
            "<class 'PIL.Image.Image'>\n",
            "None\n",
            "RGB\n",
            "(1024, 1024)\n"
          ],
          "name": "stdout"
        }
      ]
    },
    {
      "cell_type": "code",
      "metadata": {
        "id": "2g82fQnvQjs5",
        "colab_type": "code",
        "colab": {}
      },
      "source": [
        "from IPython.display import display\n",
        "from PIL import Image\n",
        "a = Image.open('/content/sprites/downsampled/sheet_0x12000_0x12fff.png')\n",
        "display(a)"
      ],
      "execution_count": null,
      "outputs": []
    },
    {
      "cell_type": "code",
      "metadata": {
        "id": "YO6J7VWUUQ8l",
        "colab_type": "code",
        "colab": {}
      },
      "source": [
        "import numpy as np\n",
        "from tensorflow import keras\n",
        "\n",
        "from tensorflow.keras.models import Sequential,  \n",
        "from tensorflow.keras.layers import Dense, Conv2D\n",
        "\n",
        "model = Sequential([\n",
        "  Conv2D(5),\n",
        "  Dense(64, activation='relu'),\n",
        "  Dense(64, activation='relu'),\n",
        "  Dense(10, activation='softmax'),\n",
        "])\n",
        "\n",
        "\n"
      ],
      "execution_count": null,
      "outputs": []
    },
    {
      "cell_type": "code",
      "metadata": {
        "id": "_Fq27QO15Uzf",
        "colab_type": "code",
        "colab": {}
      },
      "source": [
        "def model():\n",
        "    \n",
        "    # define model type\n",
        "    SRCNN = Sequential()\n",
        "    \n",
        "    # add model layers\n",
        "    SRCNN.add(Conv2D(filters=128, kernel_size = (9, 9), kernel_initializer='glorot_uniform',\n",
        "                     activation='relu', padding='valid', use_bias=True, input_shape=(None, None, 1)))\n",
        "    SRCNN.add(Conv2D(filters=64, kernel_size = (3, 3), kernel_initializer='glorot_uniform',\n",
        "                     activation='relu', padding='same', use_bias=True))\n",
        "    SRCNN.add(Conv2D(filters=1, kernel_size = (5, 5), kernel_initializer='glorot_uniform',\n",
        "                     activation='linear', padding='valid', use_bias=True))\n",
        "    \n",
        "    # define optimizer\n",
        "    adam = Adam(lr=0.0003)\n",
        "    \n",
        "    # compile model\n",
        "    SRCNN.compile(optimizer=adam, loss='mean_squared_error', metrics=['mean_squared_error'])\n",
        "    \n",
        "    return SRCNN"
      ],
      "execution_count": null,
      "outputs": []
    },
    {
      "cell_type": "code",
      "metadata": {
        "id": "1kPG-KTr65T8",
        "colab_type": "code",
        "colab": {}
      },
      "source": [
        "from keras.preprocessing.image import ImageDataGenerator, array_to_img, img_to_array, load_img\n",
        "\n",
        "for glob.glob()"
      ],
      "execution_count": null,
      "outputs": []
    },
    {
      "cell_type": "code",
      "metadata": {
        "id": "GdIcYFPoH_Y6",
        "colab_type": "code",
        "colab": {}
      },
      "source": [
        "import tensorflow\n",
        "tensorflow.keras.preprocessing.image_dataset_from_directory('/content/sprites/atlases')"
      ],
      "execution_count": null,
      "outputs": []
    }
  ]
}